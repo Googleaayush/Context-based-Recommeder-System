{
 "cells": [
  {
   "cell_type": "code",
   "execution_count": 1,
   "metadata": {
    "collapsed": true
   },
   "outputs": [],
   "source": [
    "import pandas as pd\n",
    "import numpy as np\n",
    "from sklearn import preprocessing\n",
    "import tensorly as tl\n",
    "from tensorly.decomposition import tucker\n",
    "from sklearn.cluster import KMeans\n",
    "import matplotlib.pyplot as plt \n",
    "from mpl_toolkits import mplot3d\n",
    "from mpl_toolkits.mplot3d import Axes3D\n",
    "%matplotlib inline"
   ]
  },
  {
   "cell_type": "code",
   "execution_count": 2,
   "metadata": {
    "collapsed": true
   },
   "outputs": [],
   "source": [
    "data = pd.read_csv('ratings.txt')\n",
    "data=data.dropna()\n",
    "data['rating']=data['rating']/5\n",
    "data = data.sort_values(by=['userid', 'itemid'])"
   ]
  },
  {
   "cell_type": "code",
   "execution_count": 3,
   "metadata": {
    "collapsed": true
   },
   "outputs": [],
   "source": [
    "dataplot = data.copy()\n",
    "from sklearn.preprocessing import LabelEncoder\n",
    "le = LabelEncoder()\n",
    "dataplot.iloc[:,4] = le.fit_transform(dataplot.iloc[:,4])\n",
    "dataplot.iloc[:,5] = le.fit_transform(dataplot.iloc[:,5])\n",
    "dataplot.iloc[:,3] = le.fit_transform(dataplot.iloc[:,3])\n",
    "data2=dataplot.copy()\n",
    "dataplot.iloc[:,1] = le.fit_transform(dataplot.iloc[:,1])"
   ]
  },
  {
   "cell_type": "code",
   "execution_count": 4,
   "metadata": {
    "collapsed": true
   },
   "outputs": [],
   "source": [
    "user_id = data2['userid'].unique()\n",
    "item_id = data2['itemid'].unique()\n",
    "location = data2['Location'].unique()\n",
    "companion = data2['Companion'].unique()\n",
    "time = data2['Time'].unique()"
   ]
  },
  {
   "cell_type": "code",
   "execution_count": 5,
   "metadata": {
    "collapsed": true
   },
   "outputs": [],
   "source": [
    "def mapping(ids):\n",
    "    count = 0\n",
    "    keys_u = ids\n",
    "    map_array = {}\n",
    "    for i in keys_u:\n",
    "        map_array[i] = count\n",
    "        count = count + 1\n",
    "    return map_array"
   ]
  },
  {
   "cell_type": "code",
   "execution_count": 6,
   "metadata": {
    "collapsed": true
   },
   "outputs": [],
   "source": [
    "map_users = mapping(user_id)\n",
    "map_items = mapping(item_id)\n",
    "map_loc = mapping(location)\n",
    "map_tim = mapping(time)\n",
    "map_com = mapping(companion)"
   ]
  },
  {
   "cell_type": "code",
   "execution_count": 7,
   "metadata": {
    "collapsed": true
   },
   "outputs": [],
   "source": [
    "tensor_loc = np.zeros([len(user_id),len(item_id),len(location)])\n",
    "# 3D TENSOR for location\n",
    "for i in range(data2.shape[0]):\n",
    "    idx1 = map_users[data2.iloc[i,0]]\n",
    "    idx2 = map_items[data2.iloc[i,1]]\n",
    "    idx3 = map_loc[data2.iloc[i,4]]\n",
    "    rat = data2.iloc[i,2]\n",
    "    tensor_loc[idx1,idx2,idx3] = rat"
   ]
  },
  {
   "cell_type": "code",
   "execution_count": 8,
   "metadata": {
    "collapsed": true
   },
   "outputs": [],
   "source": [
    "tensor_tim = np.zeros([len(user_id),len(item_id),len(time)])\n",
    "# 3D TENSOR for time\n",
    "for i in range(data2.shape[0]):\n",
    "    idx1 = map_users[data2.iloc[i,0]]\n",
    "    idx2 = map_items[data2.iloc[i,1]]\n",
    "    idx3 = map_tim[data2.iloc[i,3]]\n",
    "    rat = data2.iloc[i,2]\n",
    "    tensor_tim[idx1,idx2,idx3] = rat"
   ]
  },
  {
   "cell_type": "code",
   "execution_count": 9,
   "metadata": {
    "collapsed": true
   },
   "outputs": [],
   "source": [
    "tensor_com = np.zeros([len(user_id),len(item_id),len(companion)])\n",
    "# 3D TENSOR for companion\n",
    "for i in range(data2.shape[0]):\n",
    "    idx1 = map_users[data2.iloc[i,0]]\n",
    "    idx2 = map_items[data2.iloc[i,1]]\n",
    "    idx3 = map_com[data2.iloc[i,5]]\n",
    "    rat = data2.iloc[i,2]\n",
    "    tensor_com[idx1,idx2,idx3] = rat"
   ]
  },
  {
   "cell_type": "markdown",
   "metadata": {},
   "source": [
    "# Hybrid"
   ]
  },
  {
   "cell_type": "code",
   "execution_count": 122,
   "metadata": {
    "collapsed": true
   },
   "outputs": [],
   "source": [
    "current_context1 = 0\n",
    "current_context2 = 1\n",
    "current_context3 = 1"
   ]
  },
  {
   "cell_type": "code",
   "execution_count": 123,
   "metadata": {
    "collapsed": true
   },
   "outputs": [],
   "source": [
    "index_context1 = map_loc[current_context1]\n",
    "index_context2 = map_tim[current_context2]\n",
    "index_context3 = map_com[current_context3]"
   ]
  },
  {
   "cell_type": "code",
   "execution_count": 124,
   "metadata": {
    "collapsed": false
   },
   "outputs": [],
   "source": [
    "matrix_context1=tensor_loc[:,:,index_context1]\n",
    "matrix_context2=tensor_tim[:,:,index_context2]\n",
    "matrix_context3=tensor_com[:,:,index_context3]"
   ]
  },
  {
   "cell_type": "code",
   "execution_count": 125,
   "metadata": {
    "collapsed": false
   },
   "outputs": [],
   "source": [
    "matrix_context1=np.array(matrix_context1)\n",
    "matrix_context2=np.array(matrix_context2)\n",
    "matrix_context3=np.array(matrix_context3)"
   ]
  },
  {
   "cell_type": "code",
   "execution_count": 126,
   "metadata": {
    "collapsed": true
   },
   "outputs": [],
   "source": [
    "tensor3d=np.dstack((matrix_context1,matrix_context2,matrix_context3))"
   ]
  },
  {
   "cell_type": "code",
   "execution_count": 127,
   "metadata": {
    "collapsed": false
   },
   "outputs": [
    {
     "data": {
      "text/plain": [
       "(81, 79, 3)"
      ]
     },
     "execution_count": 127,
     "metadata": {},
     "output_type": "execute_result"
    }
   ],
   "source": [
    "tensor3d.shape"
   ]
  },
  {
   "cell_type": "code",
   "execution_count": 128,
   "metadata": {
    "collapsed": true
   },
   "outputs": [],
   "source": [
    "factors3d = tucker(tensor3d , ranks=[35,35,2])"
   ]
  },
  {
   "cell_type": "code",
   "execution_count": 129,
   "metadata": {
    "collapsed": true
   },
   "outputs": [],
   "source": [
    "U1 = factors3d[1][0]\n",
    "I1 = factors3d[1][1]\n",
    "C1 = factors3d[1][2]"
   ]
  },
  {
   "cell_type": "code",
   "execution_count": 130,
   "metadata": {
    "collapsed": false
   },
   "outputs": [],
   "source": [
    "wcss = []\n",
    "for i in range(1,81):\n",
    "    kmeans = KMeans(n_clusters = i, init = 'k-means++', random_state = 42)\n",
    "    kmeans.fit(U1)\n",
    "    wcss.append(kmeans.inertia_)"
   ]
  },
  {
   "cell_type": "code",
   "execution_count": 131,
   "metadata": {
    "collapsed": false
   },
   "outputs": [
    {
     "data": {
      "image/png": "[encoded data removed]",
      "text/plain": [
       "<matplotlib.figure.Figure at 0x2c7ff4bf588>"
      ]
     },
     "metadata": {},
     "output_type": "display_data"
    }
   ],
   "source": [
    "plt.plot(range(1, 81), wcss)\n",
    "plt.title('The Elbow Method')\n",
    "plt.xlabel('Number of clusters')\n",
    "plt.ylabel('WCSS')\n",
    "plt.show()"
   ]
  },
  {
   "cell_type": "code",
   "execution_count": 132,
   "metadata": {
    "collapsed": true
   },
   "outputs": [],
   "source": [
    "kmeans = KMeans(n_clusters=34, random_state=0)\n",
    "y1 = kmeans.fit_predict(U1)\n",
    "kmeans = KMeans(n_clusters=35, random_state=0)\n",
    "y2 = kmeans.fit_predict(U1)\n",
    "kmeans = KMeans(n_clusters=33, random_state=0)\n",
    "y3 = kmeans.fit_predict(U1)\n",
    "kmeans = KMeans(n_clusters=25, random_state=0)\n",
    "y4 = kmeans.fit_predict(U1)"
   ]
  },
  {
   "cell_type": "code",
   "execution_count": 133,
   "metadata": {
    "collapsed": false
   },
   "outputs": [
    {
     "data": {
      "text/plain": [
       "<matplotlib.text.Text at 0x2c7ff7ebeb8>"
      ]
     },
     "execution_count": 133,
     "metadata": {},
     "output_type": "execute_result"
    },
    {
     "data": {
      "image/png": "[encoded data removed]",
      "text/plain": [
       "<matplotlib.figure.Figure at 0x2c7ff51d0f0>"
      ]
     },
     "metadata": {},
     "output_type": "display_data"
    }
   ],
   "source": [
    "fig, ax = plt.subplots(2,2, figsize=(10, 7))\n",
    "ax[0,0].hist(y1)\n",
    "ax[0,0].set_title(\"34 Clusters\")\n",
    "ax[0,1].hist(y2)\n",
    "ax[0,1].set_title(\"35 Clusters\")\n",
    "ax[1,0].hist(y3)\n",
    "ax[1,0].set_title(\"33 Clusters\")\n",
    "ax[1,1].hist(y4)\n",
    "ax[1,1].set_title(\"25 Clusters\")"
   ]
  },
  {
   "cell_type": "code",
   "execution_count": 134,
   "metadata": {
    "collapsed": true
   },
   "outputs": [],
   "source": [
    "tensor5d = np.zeros([len(user_id),len(item_id),len(location),len(time),len(companion)])"
   ]
  },
  {
   "cell_type": "code",
   "execution_count": 135,
   "metadata": {
    "collapsed": true
   },
   "outputs": [],
   "source": [
    "for i in range(data2.shape[0]):\n",
    "    idx1 = map_users[data2.iloc[i,0]]\n",
    "    idx2 = map_items[data2.iloc[i,1]]\n",
    "    idx3 = map_loc[data2.iloc[i,4]]\n",
    "    idx4 = map_tim[data2.iloc[i,3]]\n",
    "    idx5 = map_com[data2.iloc[i,5]]\n",
    "    rat = data2.iloc[i,2]\n",
    "    tensor5d[idx1,idx2,idx3,idx4,idx5] = rat"
   ]
  },
  {
   "cell_type": "code",
   "execution_count": 136,
   "metadata": {
    "collapsed": true
   },
   "outputs": [],
   "source": [
    "matrix_context = tensor5d[:,:,index_context1,index_context2,index_context3]"
   ]
  },
  {
   "cell_type": "code",
   "execution_count": 137,
   "metadata": {
    "collapsed": false
   },
   "outputs": [],
   "source": [
    "current_user = 1001\n",
    "index_user = map_users[current_user]\n",
    "cluster_user = y1[index_user]"
   ]
  },
  {
   "cell_type": "code",
   "execution_count": 138,
   "metadata": {
    "collapsed": false
   },
   "outputs": [
    {
     "data": {
      "text/plain": [
       "7"
      ]
     },
     "execution_count": 138,
     "metadata": {},
     "output_type": "execute_result"
    }
   ],
   "source": [
    "cluster_user"
   ]
  },
  {
   "cell_type": "code",
   "execution_count": 139,
   "metadata": {
    "collapsed": false
   },
   "outputs": [],
   "source": [
    "sim_user_id = []\n",
    "for i in range(len(y1)):\n",
    "    if(y1[i]==cluster_user and user_id[i]!=current_user):\n",
    "        sim_user_id.append(user_id[i])"
   ]
  },
  {
   "cell_type": "code",
   "execution_count": 140,
   "metadata": {
    "collapsed": false
   },
   "outputs": [],
   "source": [
    "cluster=[]\n",
    "for i in range(len(user_id)):\n",
    "    if y1[i]==cluster_user and i!=index_user :\n",
    "        cluster.append(i)"
   ]
  },
  {
   "cell_type": "code",
   "execution_count": 141,
   "metadata": {
    "collapsed": false
   },
   "outputs": [
    {
     "data": {
      "text/plain": [
       "16"
      ]
     },
     "execution_count": 141,
     "metadata": {},
     "output_type": "execute_result"
    }
   ],
   "source": [
    "len(cluster)"
   ]
  },
  {
   "cell_type": "code",
   "execution_count": 142,
   "metadata": {
    "collapsed": true
   },
   "outputs": [],
   "source": [
    "similar_users = []\n",
    "for i in cluster:\n",
    "    similar_users.append(matrix_context[i])\n",
    "su = similar_users.copy()\n",
    "su.append(matrix_context[map_users[current_user]])\n"
   ]
  },
  {
   "cell_type": "code",
   "execution_count": 143,
   "metadata": {
    "collapsed": false
   },
   "outputs": [],
   "source": [
    "su_mean=[]\n",
    "count=0\n",
    "mean=0\n",
    "for i in range(len(su)):\n",
    "    for j in range(len(item_id)):\n",
    "        if su[i][j]:\n",
    "            count = count + 1\n",
    "            mean = mean + su[i][j]\n",
    "    if count:\n",
    "        su_mean.append(mean/count)\n",
    "    else:\n",
    "        su_mean.append(0)\n",
    "    mean=0\n",
    "    count=0"
   ]
  },
  {
   "cell_type": "code",
   "execution_count": 144,
   "metadata": {
    "collapsed": false
   },
   "outputs": [],
   "source": [
    "import math\n",
    "corr_matrix=[]\n",
    "corr_m = []\n",
    "sumxy=0\n",
    "sumyy2=0\n",
    "sumxx2=0\n",
    "corr=0\n",
    "for i in range(len(su)):\n",
    "    for j in range(len(su)):\n",
    "        for k in range(len(item_id)):\n",
    "            if su[i][k] and su[j][k]:\n",
    "                sumxy= sumxy + (su[i][k]-su_mean[i])*(su[j][k]-su_mean[j])\n",
    "                sumxx2= sumxx2 + (su[i][k]-su_mean[i])*(su[i][k]-su_mean[i])\n",
    "                sumyy2= sumyy2 + (su[j][k]-su_mean[j])*(su[j][k]-su_mean[j])\n",
    "        if sumxx2 and sumyy2 :\n",
    "            corr=sumxy/math.sqrt(sumxx2*sumyy2)\n",
    "        else:\n",
    "            corr=0\n",
    "            \n",
    "        corr_m.append(corr)\n",
    "        sumxy=0\n",
    "        sumyy2=0\n",
    "        sumxx2=0\n",
    "    corr_matrix.append(corr_m)\n",
    "    corr_m = []\n",
    "        \n",
    "        "
   ]
  },
  {
   "cell_type": "code",
   "execution_count": 145,
   "metadata": {
    "collapsed": false
   },
   "outputs": [
    {
     "data": {
      "text/plain": [
       "array([[ 0.        ,  0.        ,  0.        ,  0.        ,  0.        ,\n",
       "         0.        ,  0.        ,  0.        ,  0.        ,  0.        ,\n",
       "         0.        ,  0.        ,  0.        ,  0.        ,  0.        ,\n",
       "         0.        ,  0.        ],\n",
       "       [ 0.        ,  0.        ,  0.        ,  0.        ,  0.        ,\n",
       "         0.        ,  0.        ,  0.        ,  0.        ,  0.        ,\n",
       "         0.        ,  0.        ,  0.        ,  0.        ,  0.        ,\n",
       "         0.        ,  0.        ],\n",
       "       [ 0.        ,  0.        ,  1.        ,  0.        , -1.        ,\n",
       "         0.        ,  0.        ,  0.        ,  0.87038828,  1.        ,\n",
       "         0.        ,  0.        , -1.        ,  0.        ,  0.        ,\n",
       "         0.        , -1.        ],\n",
       "       [ 0.        ,  0.        ,  0.        ,  1.        ,  0.        ,\n",
       "         0.        ,  0.        ,  0.        ,  0.        ,  1.        ,\n",
       "         0.        ,  0.        ,  0.        ,  0.        ,  0.        ,\n",
       "         0.        ,  0.        ],\n",
       "       [ 0.        ,  0.        , -1.        ,  0.        ,  1.        ,\n",
       "         0.        ,  0.        ,  0.        ,  0.        , -1.        ,\n",
       "         0.        ,  0.        ,  1.        ,  0.        ,  0.91914503,\n",
       "         0.        ,  0.94398977],\n",
       "       [ 0.        ,  0.        ,  0.        ,  0.        ,  0.        ,\n",
       "         0.        ,  0.        ,  0.        ,  0.        ,  0.        ,\n",
       "         0.        ,  0.        ,  0.        ,  0.        ,  0.        ,\n",
       "         0.        ,  0.        ],\n",
       "       [ 0.        ,  0.        ,  0.        ,  0.        ,  0.        ,\n",
       "         0.        ,  0.        ,  0.        ,  0.        ,  0.        ,\n",
       "         0.        ,  0.        ,  0.        ,  0.        ,  0.        ,\n",
       "         0.        ,  0.        ],\n",
       "       [ 0.        ,  0.        ,  0.        ,  0.        ,  0.        ,\n",
       "         0.        ,  0.        ,  0.        ,  0.        ,  0.        ,\n",
       "         0.        ,  0.        ,  0.        ,  0.        ,  0.        ,\n",
       "         0.        ,  0.        ],\n",
       "       [ 0.        ,  0.        ,  0.87038828,  0.        ,  0.        ,\n",
       "         0.        ,  0.        ,  0.        ,  1.        ,  0.        ,\n",
       "         0.        , -1.        , -1.        ,  0.        ,  0.        ,\n",
       "         0.        , -0.2087667 ],\n",
       "       [ 0.        ,  0.        ,  1.        ,  1.        , -1.        ,\n",
       "         0.        ,  0.        ,  0.        ,  0.        ,  1.        ,\n",
       "         0.        ,  0.        ,  0.97571625,  0.        ,  0.        ,\n",
       "         0.        , -1.        ],\n",
       "       [ 0.        ,  0.        ,  0.        ,  0.        ,  0.        ,\n",
       "         0.        ,  0.        ,  0.        ,  0.        ,  0.        ,\n",
       "         1.        ,  0.        ,  0.        ,  0.        ,  0.        ,\n",
       "         0.        ,  0.        ],\n",
       "       [ 0.        ,  0.        ,  0.        ,  0.        ,  0.        ,\n",
       "         0.        ,  0.        ,  0.        , -1.        ,  0.        ,\n",
       "         0.        ,  1.        ,  0.        ,  0.        ,  0.        ,\n",
       "         0.        ,  1.        ],\n",
       "       [ 0.        ,  0.        , -1.        ,  0.        ,  1.        ,\n",
       "         0.        ,  0.        ,  0.        , -1.        ,  0.97571625,\n",
       "         0.        ,  0.        ,  1.        ,  0.        ,  0.        ,\n",
       "         0.        ,  1.        ],\n",
       "       [ 0.        ,  0.        ,  0.        ,  0.        ,  0.        ,\n",
       "         0.        ,  0.        ,  0.        ,  0.        ,  0.        ,\n",
       "         0.        ,  0.        ,  0.        ,  0.        ,  0.        ,\n",
       "         0.        ,  0.        ],\n",
       "       [ 0.        ,  0.        ,  0.        ,  0.        ,  0.91914503,\n",
       "         0.        ,  0.        ,  0.        ,  0.        ,  0.        ,\n",
       "         0.        ,  0.        ,  0.        ,  0.        ,  1.        ,\n",
       "         0.        ,  1.        ],\n",
       "       [ 0.        ,  0.        ,  0.        ,  0.        ,  0.        ,\n",
       "         0.        ,  0.        ,  0.        ,  0.        ,  0.        ,\n",
       "         0.        ,  0.        ,  0.        ,  0.        ,  0.        ,\n",
       "         0.        ,  0.        ],\n",
       "       [ 0.        ,  0.        , -1.        ,  0.        ,  0.94398977,\n",
       "         0.        ,  0.        ,  0.        , -0.2087667 , -1.        ,\n",
       "         0.        ,  1.        ,  1.        ,  0.        ,  1.        ,\n",
       "         0.        ,  1.        ]])"
      ]
     },
     "execution_count": 145,
     "metadata": {},
     "output_type": "execute_result"
    }
   ],
   "source": [
    "corr_matrix = np.array(corr_matrix)\n",
    "corr_matrix"
   ]
  },
  {
   "cell_type": "code",
   "execution_count": 146,
   "metadata": {
    "collapsed": true
   },
   "outputs": [],
   "source": [
    "similar_users = np.array(similar_users)"
   ]
  },
  {
   "cell_type": "code",
   "execution_count": 147,
   "metadata": {
    "collapsed": false
   },
   "outputs": [
    {
     "data": {
      "text/plain": [
       "(16, 79)"
      ]
     },
     "execution_count": 147,
     "metadata": {},
     "output_type": "execute_result"
    }
   ],
   "source": [
    "similar_users.shape"
   ]
  },
  {
   "cell_type": "code",
   "execution_count": 148,
   "metadata": {
    "collapsed": true
   },
   "outputs": [],
   "source": [
    "relevant_items=[]\n",
    "count = 0\n",
    "for i in range(len(item_id)):\n",
    "    for j in range(len(cluster)):\n",
    "        if(similar_users[j][i]>0.5):\n",
    "            count = count + 1\n",
    "    relevant_items.append(count)\n",
    "    count = 0"
   ]
  },
  {
   "cell_type": "code",
   "execution_count": 149,
   "metadata": {
    "collapsed": true
   },
   "outputs": [],
   "source": [
    "itemx=[]\n",
    "for i in range(len(relevant_items)):\n",
    "    temp=[]\n",
    "    temp.append(item_id[i])\n",
    "    temp.append(relevant_items[i])\n",
    "    itemx.append(temp)"
   ]
  },
  {
   "cell_type": "code",
   "execution_count": 150,
   "metadata": {
    "collapsed": false
   },
   "outputs": [
    {
     "data": {
      "text/plain": [
       "array([['tt0088763', '1'],\n",
       "       ['tt0111161', '1'],\n",
       "       ['tt0120338', '1'],\n",
       "       ['tt0133093', '3'],\n",
       "       ['tt0211915', '2'],\n",
       "       ['tt0266543', '2'],\n",
       "       ['tt0362165', '0'],\n",
       "       ['tt0378194', '1'],\n",
       "       ['tt0405422', '1'],\n",
       "       ['tt0462538', '0'],\n",
       "       ['tt1232829', '1'],\n",
       "       ['tt1453405', '0'],\n",
       "       ['tt1707386', '1'],\n",
       "       ['tt0109830', '2'],\n",
       "       ['tt0114369', '1'],\n",
       "       ['tt0367594', '0'],\n",
       "       ['tt0382625', '1'],\n",
       "       ['tt0993846', '0'],\n",
       "       ['tt2557490', '0'],\n",
       "       ['tt3793764', '1'],\n",
       "       ['tt0110357', '1'],\n",
       "       ['tt0114148', '0'],\n",
       "       ['tt0120912', '1'],\n",
       "       ['tt0454876', '1'],\n",
       "       ['tt1099212', '0'],\n",
       "       ['tt1291150', '0'],\n",
       "       ['tt0110475', '0'],\n",
       "       ['tt0125439', '0'],\n",
       "       ['tt0138097', '0'],\n",
       "       ['tt0181689', '1'],\n",
       "       ['tt0289879', '0'],\n",
       "       ['tt0293662', '0'],\n",
       "       ['tt0319262', '1'],\n",
       "       ['tt0327084', '0'],\n",
       "       ['tt0489099', '0'],\n",
       "       ['tt0800369', '1'],\n",
       "       ['tt0945513', '0'],\n",
       "       ['tt1133985', '1'],\n",
       "       ['tt1375666', '1'],\n",
       "       ['tt1499658', '0'],\n",
       "       ['tt1657301', '2'],\n",
       "       ['tt3510098', '0'],\n",
       "       ['tt3637328', '0'],\n",
       "       ['ttnanana1', '0'],\n",
       "       ['ttnanana2', '0'],\n",
       "       ['tt0441773', '0'],\n",
       "       ['tt1055369', '0'],\n",
       "       ['tt1924435', '0'],\n",
       "       ['tt0315733', '0'],\n",
       "       ['tt0376541', '0'],\n",
       "       ['tt0413267', '0'],\n",
       "       ['tt0454848', '0'],\n",
       "       ['tt0816199', '0'],\n",
       "       ['tt4052394', '0'],\n",
       "       ['tt0232500', '0'],\n",
       "       ['tt0343660', '0'],\n",
       "       ['tt1190080', '0'],\n",
       "       ['tt2574698', '0'],\n",
       "       ['tt3254460', '0'],\n",
       "       ['tt0268380', '0'],\n",
       "       ['tt1596343', '1'],\n",
       "       ['tt2251217', '0'],\n",
       "       ['tt0356910', '0'],\n",
       "       ['tt0213149', '0'],\n",
       "       ['tt2096673', '0'],\n",
       "       ['tt0169547', '0'],\n",
       "       ['tt4411490', '1'],\n",
       "       ['tt0147800', '0'],\n",
       "       ['tt1369829', '0'],\n",
       "       ['tt0407304', '1'],\n",
       "       ['tt0388795', '0'],\n",
       "       ['tt0944835', '0'],\n",
       "       ['tt1478338', '0'],\n",
       "       ['tt1041829', '0'],\n",
       "       ['tt1632708', '0'],\n",
       "       ['tt1564367', '0'],\n",
       "       ['tt1068680', '0'],\n",
       "       ['tt1637706', '0'],\n",
       "       ['tt3203616', '0']], \n",
       "      dtype='<U9')"
      ]
     },
     "execution_count": 150,
     "metadata": {},
     "output_type": "execute_result"
    }
   ],
   "source": [
    "itemx = np.array(itemx)\n",
    "itemx"
   ]
  },
  {
   "cell_type": "code",
   "execution_count": 151,
   "metadata": {
    "collapsed": true
   },
   "outputs": [],
   "source": [
    "# sorting in reverse(top 10 iStems)\n",
    "itemx = itemx[itemx[:,1].argsort()[::-1]]"
   ]
  },
  {
   "cell_type": "code",
   "execution_count": 152,
   "metadata": {
    "collapsed": false
   },
   "outputs": [
    {
     "data": {
      "text/plain": [
       "array([['tt0133093', '3'],\n",
       "       ['tt0109830', '2'],\n",
       "       ['tt1657301', '2'],\n",
       "       ['tt0211915', '2'],\n",
       "       ['tt0266543', '2'],\n",
       "       ['tt0110357', '1'],\n",
       "       ['tt1596343', '1'],\n",
       "       ['tt0382625', '1'],\n",
       "       ['tt0800369', '1'],\n",
       "       ['tt3793764', '1']], \n",
       "      dtype='<U9')"
      ]
     },
     "execution_count": 152,
     "metadata": {},
     "output_type": "execute_result"
    }
   ],
   "source": [
    "itemx[0:10, :]"
   ]
  },
  {
   "cell_type": "code",
   "execution_count": 153,
   "metadata": {
    "collapsed": false
   },
   "outputs": [
    {
     "data": {
      "text/plain": [
       "<matplotlib.axes._subplots.AxesSubplot at 0x2c7ff8f7e48>"
      ]
     },
     "execution_count": 153,
     "metadata": {},
     "output_type": "execute_result"
    },
    {
     "data": {
      "image/png": "[encoded data removed]",
      "text/plain": [
       "<matplotlib.figure.Figure at 0x2c7ff903ba8>"
      ]
     },
     "metadata": {},
     "output_type": "display_data"
    }
   ],
   "source": [
    "sim_user_id.append(current_user)\n",
    "import seaborn as sns\n",
    "sns.heatmap(corr_matrix, xticklabels=sim_user_id, yticklabels=sim_user_id)"
   ]
  },
  {
   "cell_type": "code",
   "execution_count": null,
   "metadata": {
    "collapsed": true
   },
   "outputs": [],
   "source": []
  },
  {
   "cell_type": "code",
   "execution_count": null,
   "metadata": {
    "collapsed": true
   },
   "outputs": [],
   "source": []
  }
 ],
 "metadata": {
  "anaconda-cloud": {},
  "kernelspec": {
   "display_name": "Python [default]",
   "language": "python",
   "name": "python3"
  },
  "language_info": {
   "codemirror_mode": {
    "name": "ipython",
    "version": 3
   },
   "file_extension": ".py",
   "mimetype": "text/x-python",
   "name": "python",
   "nbconvert_exporter": "python",
   "pygments_lexer": "ipython3",
   "version": "3.5.2"
  }
 },
 "nbformat": 4,
 "nbformat_minor": 1
}
