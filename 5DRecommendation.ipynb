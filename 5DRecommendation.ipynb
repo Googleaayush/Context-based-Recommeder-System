{
 "cells": [
  {
   "cell_type": "code",
   "execution_count": 1,
   "metadata": {
    "collapsed": true
   },
   "outputs": [],
   "source": [
    "import pandas as pd\n",
    "import numpy as np\n",
    "from sklearn import preprocessing\n",
    "import tensorly as tl\n",
    "from tensorly.decomposition import tucker\n",
    "from sklearn.cluster import KMeans\n",
    "import matplotlib.pyplot as plt \n",
    "from mpl_toolkits import mplot3d\n",
    "from mpl_toolkits.mplot3d import Axes3D\n",
    "%matplotlib inline"
   ]
  },
  {
   "cell_type": "code",
   "execution_count": 2,
   "metadata": {
    "collapsed": true
   },
   "outputs": [],
   "source": [
    "data = pd.read_csv('ratings.txt')\n",
    "data=data.dropna()\n",
    "data['rating']=data['rating']/5\n",
    "data = data.sort_values(by=['userid', 'itemid'])"
   ]
  },
  {
   "cell_type": "code",
   "execution_count": 3,
   "metadata": {
    "collapsed": true
   },
   "outputs": [],
   "source": [
    "dataplot = data.copy()\n",
    "from sklearn.preprocessing import LabelEncoder\n",
    "le = LabelEncoder()\n",
    "dataplot.iloc[:,4] = le.fit_transform(dataplot.iloc[:,4])\n",
    "dataplot.iloc[:,5] = le.fit_transform(dataplot.iloc[:,5])\n",
    "dataplot.iloc[:,3] = le.fit_transform(dataplot.iloc[:,3])\n",
    "data2=dataplot.copy()\n",
    "dataplot.iloc[:,1] = le.fit_transform(dataplot.iloc[:,1])"
   ]
  },
  {
   "cell_type": "code",
   "execution_count": 4,
   "metadata": {
    "collapsed": false
   },
   "outputs": [
    {
     "data": {
      "text/html": [
       "<div>\n",
       "<table border=\"1\" class=\"dataframe\">\n",
       "  <thead>\n",
       "    <tr style=\"text-align: right;\">\n",
       "      <th></th>\n",
       "      <th>userid</th>\n",
       "      <th>itemid</th>\n",
       "      <th>rating</th>\n",
       "      <th>Time</th>\n",
       "      <th>Location</th>\n",
       "      <th>Companion</th>\n",
       "    </tr>\n",
       "  </thead>\n",
       "  <tbody>\n",
       "    <tr>\n",
       "      <th>723</th>\n",
       "      <td>1001</td>\n",
       "      <td>tt0088763</td>\n",
       "      <td>0.6</td>\n",
       "      <td>1</td>\n",
       "      <td>0</td>\n",
       "      <td>1</td>\n",
       "    </tr>\n",
       "    <tr>\n",
       "      <th>731</th>\n",
       "      <td>1001</td>\n",
       "      <td>tt0088763</td>\n",
       "      <td>0.8</td>\n",
       "      <td>1</td>\n",
       "      <td>0</td>\n",
       "      <td>2</td>\n",
       "    </tr>\n",
       "    <tr>\n",
       "      <th>721</th>\n",
       "      <td>1001</td>\n",
       "      <td>tt0111161</td>\n",
       "      <td>0.4</td>\n",
       "      <td>1</td>\n",
       "      <td>0</td>\n",
       "      <td>1</td>\n",
       "    </tr>\n",
       "    <tr>\n",
       "      <th>729</th>\n",
       "      <td>1001</td>\n",
       "      <td>tt0111161</td>\n",
       "      <td>0.6</td>\n",
       "      <td>1</td>\n",
       "      <td>0</td>\n",
       "      <td>2</td>\n",
       "    </tr>\n",
       "    <tr>\n",
       "      <th>737</th>\n",
       "      <td>1001</td>\n",
       "      <td>tt0120338</td>\n",
       "      <td>0.2</td>\n",
       "      <td>1</td>\n",
       "      <td>1</td>\n",
       "      <td>0</td>\n",
       "    </tr>\n",
       "  </tbody>\n",
       "</table>\n",
       "</div>"
      ],
      "text/plain": [
       "     userid     itemid  rating  Time  Location  Companion\n",
       "723    1001  tt0088763     0.6     1         0          1\n",
       "731    1001  tt0088763     0.8     1         0          2\n",
       "721    1001  tt0111161     0.4     1         0          1\n",
       "729    1001  tt0111161     0.6     1         0          2\n",
       "737    1001  tt0120338     0.2     1         1          0"
      ]
     },
     "execution_count": 4,
     "metadata": {},
     "output_type": "execute_result"
    }
   ],
   "source": [
    "data2.head()"
   ]
  },
  {
   "cell_type": "code",
   "execution_count": 5,
   "metadata": {
    "collapsed": true
   },
   "outputs": [],
   "source": [
    "user_id = data2['userid'].unique()\n",
    "item_id = data2['itemid'].unique()\n",
    "location = data2['Location'].unique()\n",
    "companion = data2['Companion'].unique()\n",
    "time = data2['Time'].unique()"
   ]
  },
  {
   "cell_type": "code",
   "execution_count": 6,
   "metadata": {
    "collapsed": true
   },
   "outputs": [],
   "source": [
    "def mapping(ids):\n",
    "    count = 0\n",
    "    keys_u = ids\n",
    "    map_array = {}\n",
    "    for i in keys_u:\n",
    "        map_array[i] = count\n",
    "        count = count + 1\n",
    "    return map_array"
   ]
  },
  {
   "cell_type": "code",
   "execution_count": 7,
   "metadata": {
    "collapsed": true
   },
   "outputs": [],
   "source": [
    "map_users = mapping(user_id)\n",
    "map_items = mapping(item_id)\n",
    "map_loc = mapping(location)\n",
    "map_tim = mapping(time)\n",
    "map_com = mapping(companion)"
   ]
  },
  {
   "cell_type": "code",
   "execution_count": 8,
   "metadata": {
    "collapsed": false
   },
   "outputs": [],
   "source": [
    "tensor5d = np.zeros([len(user_id),len(item_id),len(location),len(time),len(companion)])"
   ]
  },
  {
   "cell_type": "code",
   "execution_count": 9,
   "metadata": {
    "collapsed": false
   },
   "outputs": [],
   "source": [
    "for i in range(data2.shape[0]):\n",
    "    idx1 = map_users[data2.iloc[i,0]]\n",
    "    idx2 = map_items[data2.iloc[i,1]]\n",
    "    idx3 = map_loc[data2.iloc[i,4]]\n",
    "    idx4 = map_tim[data2.iloc[i,3]]\n",
    "    idx5 = map_com[data2.iloc[i,5]]\n",
    "    rat = data2.iloc[i,2]\n",
    "    tensor5d[idx1,idx2,idx3,idx4,idx5] = rat"
   ]
  },
  {
   "cell_type": "code",
   "execution_count": 10,
   "metadata": {
    "collapsed": true
   },
   "outputs": [],
   "source": [
    "factors5d = tucker(tensor5d , ranks=[35,35,2,2,3])"
   ]
  },
  {
   "cell_type": "code",
   "execution_count": 11,
   "metadata": {
    "collapsed": false
   },
   "outputs": [],
   "source": [
    "U1 = factors5d[1][0]\n",
    "I1 = factors5d[1][1]\n",
    "C1 = factors5d[1][2]\n",
    "C2 = factors5d[1][3]\n",
    "C3 = factors5d[1][4]"
   ]
  },
  {
   "cell_type": "code",
   "execution_count": 12,
   "metadata": {
    "collapsed": false
   },
   "outputs": [
    {
     "data": {
      "text/plain": [
       "(3, 3)"
      ]
     },
     "execution_count": 12,
     "metadata": {},
     "output_type": "execute_result"
    }
   ],
   "source": [
    "C3.shape"
   ]
  },
  {
   "cell_type": "code",
   "execution_count": 13,
   "metadata": {
    "collapsed": true
   },
   "outputs": [],
   "source": [
    "wcss = []\n",
    "for i in range(1,81):\n",
    "    kmeans = KMeans(n_clusters = i, init = 'k-means++', random_state = 42)\n",
    "    kmeans.fit(U1)\n",
    "    wcss.append(kmeans.inertia_)"
   ]
  },
  {
   "cell_type": "code",
   "execution_count": 14,
   "metadata": {
    "collapsed": false
   },
   "outputs": [
    {
     "data": {
      "image/png": "[encoded data removed]",
      "text/plain": [
       "<matplotlib.figure.Figure at 0x25302004860>"
      ]
     },
     "metadata": {},
     "output_type": "display_data"
    }
   ],
   "source": [
    "plt.plot(range(1, 81), wcss)\n",
    "plt.title('The Elbow Method')\n",
    "plt.xlabel('Number of clusters')\n",
    "plt.ylabel('WCSS')\n",
    "plt.show()"
   ]
  },
  {
   "cell_type": "code",
   "execution_count": 15,
   "metadata": {
    "collapsed": true
   },
   "outputs": [],
   "source": [
    "kmeans = KMeans(n_clusters=36, random_state=0)\n",
    "y1 = kmeans.fit_predict(U1)\n",
    "kmeans = KMeans(n_clusters=40, random_state=0)\n",
    "y2 = kmeans.fit_predict(U1)\n",
    "kmeans = KMeans(n_clusters=37, random_state=0)\n",
    "y3 = kmeans.fit_predict(U1)\n",
    "kmeans = KMeans(n_clusters=38, random_state=0)\n",
    "y4 = kmeans.fit_predict(U1)"
   ]
  },
  {
   "cell_type": "code",
   "execution_count": 16,
   "metadata": {
    "collapsed": false
   },
   "outputs": [
    {
     "data": {
      "text/plain": [
       "<matplotlib.text.Text at 0x25305f836d8>"
      ]
     },
     "execution_count": 16,
     "metadata": {},
     "output_type": "execute_result"
    },
    {
     "data": {
      "image/png": "[encoded data removed]",
      "text/plain": [
       "<matplotlib.figure.Figure at 0x25305df9518>"
      ]
     },
     "metadata": {},
     "output_type": "display_data"
    }
   ],
   "source": [
    "fig, ax = plt.subplots(2,2, figsize=(8, 5))\n",
    "ax[0,0].hist(y1)\n",
    "ax[0,0].set_title(\"36 Clusters\")\n",
    "ax[0,1].hist(y2)\n",
    "ax[0,1].set_title(\"40 Clusters\")\n",
    "ax[1,0].hist(y3)\n",
    "ax[1,0].set_title(\"37 Clusters\")\n",
    "ax[1,1].hist(y4)\n",
    "ax[1,1].set_title(\"38 Clusters\")"
   ]
  },
  {
   "cell_type": "code",
   "execution_count": 188,
   "metadata": {
    "collapsed": true
   },
   "outputs": [],
   "source": [
    "current_user = 1035\n",
    "index_user = map_users[current_user]\n",
    "cluster_user = y2[index_user]"
   ]
  },
  {
   "cell_type": "code",
   "execution_count": 189,
   "metadata": {
    "collapsed": false
   },
   "outputs": [
    {
     "data": {
      "text/plain": [
       "array([1001, 1002, 1003, 1004, 1005, 1006, 1007, 1008, 1009, 1011, 1014,\n",
       "       1015, 1016, 1018, 1026, 1027, 1028, 1029, 1030, 1031, 1032, 1033,\n",
       "       1034, 1035, 1037, 1038, 1039, 1040, 1041, 1042, 1043, 1044, 1045,\n",
       "       1046, 1047, 1048, 1049, 1050, 1051, 1052, 1053, 1054, 1055, 1056,\n",
       "       1057, 1058, 1059, 1060, 1061, 1062, 1063, 1064, 1065, 1066, 1067,\n",
       "       1068, 1069, 1070, 1071, 1074, 1075, 1076, 1077, 1078, 1079, 1082,\n",
       "       1084, 1087, 1097, 1098, 1105, 1107, 1109, 1112, 1113, 1114, 1115,\n",
       "       1116, 1119, 1120, 1122], dtype=int64)"
      ]
     },
     "execution_count": 189,
     "metadata": {},
     "output_type": "execute_result"
    }
   ],
   "source": [
    "user_id"
   ]
  },
  {
   "cell_type": "code",
   "execution_count": 190,
   "metadata": {
    "collapsed": false
   },
   "outputs": [
    {
     "data": {
      "text/plain": [
       "array([ 5, 36,  1, 11,  5, 29,  1,  1,  5, 36,  5, 20,  1,  1, 32,  5, 37,\n",
       "       25,  1, 12,  4,  7,  1,  1,  1, 36, 35,  1, 13, 21, 19, 31,  1,  1,\n",
       "        1,  1,  5, 10, 16,  0, 39,  5, 26, 39,  5, 23,  1, 33,  1, 28,  1,\n",
       "        1,  5,  1,  1,  1,  2, 34, 17,  1, 36,  6, 34,  3, 22,  8,  5, 15,\n",
       "       24,  9, 36,  1, 26, 27,  1,  1, 30, 18, 38, 14,  1])"
      ]
     },
     "execution_count": 190,
     "metadata": {},
     "output_type": "execute_result"
    }
   ],
   "source": [
    "y2"
   ]
  },
  {
   "cell_type": "code",
   "execution_count": 191,
   "metadata": {
    "collapsed": false
   },
   "outputs": [
    {
     "data": {
      "text/plain": [
       "1"
      ]
     },
     "execution_count": 191,
     "metadata": {},
     "output_type": "execute_result"
    }
   ],
   "source": [
    "cluster_user"
   ]
  },
  {
   "cell_type": "code",
   "execution_count": 192,
   "metadata": {
    "collapsed": true
   },
   "outputs": [],
   "source": [
    "sim_user_id = []\n",
    "for i in range(len(y2)):\n",
    "    if(y2[i]==cluster_user and user_id[i]!=current_user):\n",
    "        sim_user_id.append(user_id[i])"
   ]
  },
  {
   "cell_type": "code",
   "execution_count": 193,
   "metadata": {
    "collapsed": false
   },
   "outputs": [],
   "source": [
    "sim_user_id.append(current_user)"
   ]
  },
  {
   "cell_type": "code",
   "execution_count": 194,
   "metadata": {
    "collapsed": true
   },
   "outputs": [],
   "source": [
    "current_context1 = 0\n",
    "current_context2 = 1\n",
    "current_context3 = 1"
   ]
  },
  {
   "cell_type": "code",
   "execution_count": 195,
   "metadata": {
    "collapsed": false
   },
   "outputs": [],
   "source": [
    "index_context1 = map_loc[current_context1]\n",
    "index_context2 = map_tim[current_context2]\n",
    "index_context3 = map_com[current_context3]"
   ]
  },
  {
   "cell_type": "code",
   "execution_count": 196,
   "metadata": {
    "collapsed": true
   },
   "outputs": [],
   "source": [
    "matrix_context = tensor5d[:,:,index_context1,index_context2,index_context3]"
   ]
  },
  {
   "cell_type": "code",
   "execution_count": 197,
   "metadata": {
    "collapsed": false
   },
   "outputs": [
    {
     "data": {
      "text/plain": [
       "(81, 79)"
      ]
     },
     "execution_count": 197,
     "metadata": {},
     "output_type": "execute_result"
    }
   ],
   "source": [
    "matrix_context.shape"
   ]
  },
  {
   "cell_type": "code",
   "execution_count": 198,
   "metadata": {
    "collapsed": true
   },
   "outputs": [],
   "source": [
    "cluster=[]\n",
    "for i in range(len(user_id)):\n",
    "    if y2[i]==cluster_user and i!=index_user :\n",
    "        cluster.append(i)"
   ]
  },
  {
   "cell_type": "code",
   "execution_count": 199,
   "metadata": {
    "collapsed": false
   },
   "outputs": [
    {
     "data": {
      "text/plain": [
       "25"
      ]
     },
     "execution_count": 199,
     "metadata": {},
     "output_type": "execute_result"
    }
   ],
   "source": [
    "len(cluster)"
   ]
  },
  {
   "cell_type": "code",
   "execution_count": 200,
   "metadata": {
    "collapsed": true
   },
   "outputs": [],
   "source": [
    "similar_users = []\n",
    "for i in cluster:\n",
    "    similar_users.append(matrix_context[i])\n",
    "su = similar_users.copy()\n",
    "su.append(matrix_context[map_users[current_user]])"
   ]
  },
  {
   "cell_type": "code",
   "execution_count": 201,
   "metadata": {
    "collapsed": false
   },
   "outputs": [
    {
     "data": {
      "text/plain": [
       "array([[ 0. ,  0. ,  0. ,  0. ,  0. ,  0. ,  0. ,  0. ,  0. ,  0. ,  0. ,\n",
       "         0. ,  0. ,  0. ,  0. ,  0. ,  0. ,  0. ,  0. ,  0. ,  0. ,  0. ,\n",
       "         0. ,  0. ,  0. ,  0. ,  0. ,  0. ,  0. ,  0. ,  0. ,  0. ,  0. ,\n",
       "         0. ,  0. ,  0. ,  0. ,  0. ,  0. ,  0. ,  0. ,  0. ,  0. ,  0. ,\n",
       "         0. ,  0.2,  0. ,  0. ,  0. ,  0. ,  0. ,  0. ,  0. ,  0. ,  0. ,\n",
       "         0. ,  0. ,  0. ,  0. ,  0. ,  0. ,  0. ,  0.4,  0. ,  0. ,  0. ,\n",
       "         0. ,  0. ,  0. ,  0. ,  0. ,  0. ,  0. ,  0.6,  0. ,  0. ,  0. ,\n",
       "         0. ,  0. ],\n",
       "       [ 0. ,  0. ,  0. ,  0. ,  0. ,  0. ,  0.4,  0. ,  0. ,  0. ,  0. ,\n",
       "         0. ,  0. ,  0. ,  0. ,  0. ,  0. ,  0. ,  0. ,  0. ,  0. ,  0. ,\n",
       "         0. ,  0. ,  0. ,  0.2,  0. ,  0. ,  0. ,  0. ,  0. ,  0. ,  0. ,\n",
       "         0. ,  0. ,  0. ,  0. ,  0. ,  0. ,  0. ,  0. ,  0. ,  0. ,  0. ,\n",
       "         0. ,  0. ,  0. ,  0. ,  0. ,  0. ,  0.6,  0. ,  0. ,  0. ,  0. ,\n",
       "         0. ,  0. ,  0. ,  0. ,  0. ,  0. ,  0. ,  0. ,  0. ,  0. ,  0. ,\n",
       "         0. ,  0. ,  0. ,  0. ,  0. ,  0. ,  0. ,  0. ,  0. ,  0. ,  0. ,\n",
       "         0. ,  0. ],\n",
       "       [ 0. ,  0. ,  0. ,  0. ,  0. ,  0. ,  0. ,  0. ,  0. ,  0. ,  0. ,\n",
       "         0. ,  0. ,  0. ,  0. ,  0. ,  0. ,  0. ,  0. ,  0. ,  0. ,  0. ,\n",
       "         0. ,  0. ,  0. ,  0. ,  0. ,  0. ,  0. ,  0. ,  0. ,  0. ,  0. ,\n",
       "         0. ,  0. ,  0. ,  0. ,  0. ,  0. ,  0. ,  0. ,  0. ,  0. ,  0. ,\n",
       "         0. ,  0. ,  0. ,  0. ,  0. ,  0. ,  0. ,  0. ,  0. ,  0. ,  0. ,\n",
       "         0. ,  0. ,  0. ,  0. ,  0. ,  0. ,  0. ,  0. ,  0. ,  0. ,  0. ,\n",
       "         0. ,  0. ,  0. ,  0. ,  0. ,  0. ,  0. ,  0. ,  0. ,  0. ,  0. ,\n",
       "         0. ,  0. ],\n",
       "       [ 0. ,  0. ,  0. ,  0. ,  0. ,  0. ,  0. ,  0. ,  0. ,  0. ,  0. ,\n",
       "         0. ,  0. ,  0. ,  0. ,  0. ,  0. ,  0. ,  0. ,  0. ,  0. ,  0. ,\n",
       "         0. ,  0. ,  0. ,  0. ,  0. ,  0. ,  0. ,  0. ,  0. ,  0. ,  0. ,\n",
       "         0. ,  0. ,  0. ,  0. ,  0. ,  0. ,  0. ,  0. ,  0. ,  0.6,  0. ,\n",
       "         0. ,  0. ,  0. ,  0. ,  0. ,  0. ,  0. ,  0. ,  0. ,  0. ,  0. ,\n",
       "         0. ,  0. ,  0. ,  0. ,  0. ,  0. ,  0. ,  0.6,  0.8,  0. ,  0. ,\n",
       "         0. ,  0. ,  0. ,  0. ,  0. ,  0. ,  0. ,  0. ,  0. ,  0. ,  0. ,\n",
       "         0. ,  0. ],\n",
       "       [ 0. ,  0. ,  0. ,  0. ,  0.6,  0. ,  0. ,  0. ,  0. ,  0. ,  0. ,\n",
       "         0. ,  0. ,  1. ,  0.4,  0. ,  0.6,  0.4,  0. ,  0. ,  0. ,  0. ,\n",
       "         0. ,  0. ,  0. ,  0. ,  0. ,  0. ,  0. ,  0. ,  0. ,  0. ,  0. ,\n",
       "         0. ,  0. ,  0. ,  0. ,  0. ,  0. ,  0. ,  0. ,  0. ,  0. ,  0. ,\n",
       "         0. ,  0. ,  0. ,  0. ,  0. ,  0. ,  0. ,  0. ,  0. ,  0. ,  0. ,\n",
       "         0. ,  0. ,  0. ,  0. ,  0. ,  0. ,  0. ,  0. ,  0. ,  0. ,  0.4,\n",
       "         0. ,  0. ,  0. ,  0. ,  0. ,  0. ,  0. ,  0. ,  0. ,  0. ,  0. ,\n",
       "         0. ,  0. ],\n",
       "       [ 0. ,  0. ,  0. ,  0. ,  0. ,  0.8,  0. ,  0. ,  0. ,  0. ,  0. ,\n",
       "         0. ,  0. ,  0. ,  0. ,  0. ,  0. ,  0. ,  0. ,  0.8,  0. ,  0. ,\n",
       "         0. ,  0. ,  0. ,  0. ,  0. ,  0. ,  0. ,  0. ,  0. ,  0. ,  0. ,\n",
       "         0. ,  0. ,  0. ,  0. ,  0. ,  1. ,  0. ,  1. ,  0. ,  0. ,  0. ,\n",
       "         0. ,  0. ,  0. ,  0. ,  0. ,  0. ,  0. ,  0. ,  0. ,  0. ,  0. ,\n",
       "         0. ,  0. ,  0. ,  0. ,  0. ,  0. ,  0. ,  0. ,  0. ,  0. ,  0. ,\n",
       "         0. ,  0. ,  0. ,  0. ,  0. ,  0. ,  0.8,  0. ,  0. ,  0. ,  0. ,\n",
       "         0. ,  0. ],\n",
       "       [ 0. ,  0. ,  0.8,  0. ,  0. ,  0. ,  0. ,  0. ,  0. ,  0. ,  0. ,\n",
       "         0. ,  0. ,  0. ,  0. ,  0. ,  0.8,  0. ,  0. ,  0. ,  0. ,  0. ,\n",
       "         0. ,  0. ,  0. ,  0. ,  0. ,  0. ,  0. ,  0. ,  0. ,  0. ,  0. ,\n",
       "         0. ,  0. ,  0. ,  0. ,  0.6,  0. ,  0. ,  0. ,  0. ,  0. ,  0. ,\n",
       "         0. ,  0. ,  0. ,  0. ,  0. ,  0. ,  0. ,  0. ,  0. ,  0. ,  0. ,\n",
       "         0. ,  0. ,  0. ,  0. ,  0. ,  0. ,  0. ,  0. ,  0. ,  0. ,  0. ,\n",
       "         0. ,  0. ,  0.6,  0. ,  0. ,  0. ,  0.6,  0. ,  0. ,  0. ,  0. ,\n",
       "         0. ,  0.8],\n",
       "       [ 0. ,  0. ,  0. ,  0. ,  0. ,  0. ,  0. ,  0. ,  0. ,  0. ,  0. ,\n",
       "         0. ,  0.6,  0. ,  0. ,  0. ,  0. ,  0. ,  0. ,  0. ,  0. ,  0. ,\n",
       "         0. ,  0. ,  0. ,  0. ,  0. ,  0. ,  0. ,  0. ,  0. ,  0. ,  0. ,\n",
       "         0. ,  0. ,  0. ,  0. ,  0.6,  0. ,  0. ,  0. ,  0. ,  0. ,  0. ,\n",
       "         0. ,  0. ,  0. ,  0. ,  0. ,  0. ,  0. ,  0. ,  0. ,  0. ,  0. ,\n",
       "         0. ,  0. ,  0. ,  0.4,  0. ,  0. ,  0. ,  0. ,  0. ,  0. ,  0. ,\n",
       "         0. ,  0. ,  0. ,  0. ,  0. ,  0. ,  0. ,  0. ,  0. ,  0. ,  0. ,\n",
       "         0. ,  0. ],\n",
       "       [ 0. ,  0. ,  0. ,  0. ,  0. ,  0. ,  0. ,  0. ,  0. ,  0. ,  0. ,\n",
       "         0. ,  0.2,  0. ,  0. ,  0. ,  0. ,  0.2,  0. ,  0. ,  0. ,  0. ,\n",
       "         0. ,  0. ,  0. ,  0. ,  0. ,  0. ,  0. ,  0. ,  0. ,  0. ,  0. ,\n",
       "         0. ,  0. ,  0. ,  0. ,  0. ,  0. ,  0. ,  0. ,  0. ,  0. ,  0. ,\n",
       "         0. ,  0. ,  0. ,  0. ,  0. ,  0. ,  0. ,  0. ,  0. ,  0.4,  0.2,\n",
       "         0. ,  0. ,  0. ,  0. ,  0. ,  0. ,  0. ,  0. ,  0. ,  0. ,  0. ,\n",
       "         0.2,  0. ,  0. ,  0. ,  0. ,  0. ,  0. ,  0. ,  0. ,  0. ,  0. ,\n",
       "         0. ,  0. ],\n",
       "       [ 0. ,  0. ,  0. ,  0. ,  0. ,  0. ,  0. ,  0.2,  0. ,  0.2,  0. ,\n",
       "         0. ,  0. ,  0. ,  0. ,  0. ,  0. ,  0. ,  0. ,  0. ,  0. ,  0. ,\n",
       "         0. ,  0. ,  0. ,  0. ,  0. ,  0. ,  0. ,  0. ,  0. ,  0. ,  0. ,\n",
       "         0. ,  0. ,  0. ,  0. ,  0. ,  0. ,  0. ,  0. ,  0. ,  0. ,  0. ,\n",
       "         0. ,  0. ,  0. ,  0. ,  0. ,  0. ,  0. ,  0. ,  0. ,  0. ,  0. ,\n",
       "         0. ,  0. ,  0. ,  0. ,  0. ,  0. ,  0. ,  0. ,  0. ,  0. ,  0. ,\n",
       "         0. ,  0. ,  0. ,  0. ,  0. ,  0. ,  0. ,  0. ,  0.2,  0. ,  0. ,\n",
       "         0. ,  0. ],\n",
       "       [ 0. ,  0. ,  0. ,  0. ,  0. ,  0. ,  0. ,  0. ,  0. ,  0. ,  0. ,\n",
       "         0. ,  0. ,  0. ,  0. ,  0. ,  0. ,  0. ,  0. ,  0. ,  0. ,  0. ,\n",
       "         0. ,  0. ,  0. ,  0. ,  0. ,  0. ,  0. ,  0. ,  0. ,  0. ,  0. ,\n",
       "         0. ,  0. ,  0. ,  0. ,  0. ,  0. ,  0. ,  0. ,  0. ,  0. ,  0. ,\n",
       "         0. ,  0. ,  0. ,  0. ,  0. ,  0. ,  0. ,  0. ,  0. ,  0. ,  0. ,\n",
       "         0. ,  0. ,  0. ,  0. ,  0. ,  0. ,  0. ,  0. ,  0. ,  0. ,  0. ,\n",
       "         0. ,  0. ,  0. ,  0. ,  0. ,  0. ,  0. ,  0. ,  0. ,  0. ,  0. ,\n",
       "         0. ,  0. ]])"
      ]
     },
     "execution_count": 201,
     "metadata": {},
     "output_type": "execute_result"
    }
   ],
   "source": [
    "similar_users = np.array(similar_users)"
   ]
  },
  {
   "cell_type": "code",
   "execution_count": 202,
   "metadata": {
    "collapsed": false
   },
   "outputs": [
    {
     "data": {
      "text/plain": [
       "(25, 79)"
      ]
     },
     "execution_count": 202,
     "metadata": {},
     "output_type": "execute_result"
    }
   ],
   "source": [
    "similar_users.shape"
   ]
  },
  {
   "cell_type": "code",
   "execution_count": 203,
   "metadata": {
    "collapsed": true
   },
   "outputs": [],
   "source": [
    "relevant_items=[]\n",
    "count = 0\n",
    "for i in range(len(item_id)):\n",
    "    for j in range(len(cluster)):\n",
    "        if(similar_users[j][i]>0.5):\n",
    "            count = count + 1\n",
    "    relevant_items.append(count)\n",
    "    count = 0"
   ]
  },
  {
   "cell_type": "code",
   "execution_count": 204,
   "metadata": {
    "collapsed": true
   },
   "outputs": [],
   "source": [
    "itemx=[]\n",
    "for i in range(len(relevant_items)):\n",
    "    temp=[]\n",
    "    temp.append(item_id[i])\n",
    "    temp.append(relevant_items[i])\n",
    "    itemx.append(temp)"
   ]
  },
  {
   "cell_type": "code",
   "execution_count": 205,
   "metadata": {
    "collapsed": false
   },
   "outputs": [
    {
     "data": {
      "text/plain": [
       "array([['tt0088763', '0'],\n",
       "       ['tt0111161', '1'],\n",
       "       ['tt0120338', '1'],\n",
       "       ['tt0133093', '0'],\n",
       "       ['tt0211915', '1'],\n",
       "       ['tt0266543', '2'],\n",
       "       ['tt0362165', '0'],\n",
       "       ['tt0378194', '0'],\n",
       "       ['tt0405422', '0'],\n",
       "       ['tt0462538', '0'],\n",
       "       ['tt1232829', '0'],\n",
       "       ['tt1453405', '0'],\n",
       "       ['tt1707386', '1'],\n",
       "       ['tt0109830', '1'],\n",
       "       ['tt0114369', '0'],\n",
       "       ['tt0367594', '0'],\n",
       "       ['tt0382625', '2'],\n",
       "       ['tt0993846', '1'],\n",
       "       ['tt2557490', '0'],\n",
       "       ['tt3793764', '1'],\n",
       "       ['tt0110357', '0'],\n",
       "       ['tt0114148', '0'],\n",
       "       ['tt0120912', '0'],\n",
       "       ['tt0454876', '1'],\n",
       "       ['tt1099212', '1'],\n",
       "       ['tt1291150', '0'],\n",
       "       ['tt0110475', '0'],\n",
       "       ['tt0125439', '0'],\n",
       "       ['tt0138097', '0'],\n",
       "       ['tt0181689', '0'],\n",
       "       ['tt0289879', '0'],\n",
       "       ['tt0293662', '1'],\n",
       "       ['tt0319262', '0'],\n",
       "       ['tt0327084', '0'],\n",
       "       ['tt0489099', '0'],\n",
       "       ['tt0800369', '0'],\n",
       "       ['tt0945513', '0'],\n",
       "       ['tt1133985', '3'],\n",
       "       ['tt1375666', '1'],\n",
       "       ['tt1499658', '0'],\n",
       "       ['tt1657301', '2'],\n",
       "       ['tt3510098', '0'],\n",
       "       ['tt3637328', '1'],\n",
       "       ['ttnanana1', '0'],\n",
       "       ['ttnanana2', '1'],\n",
       "       ['tt0441773', '0'],\n",
       "       ['tt1055369', '1'],\n",
       "       ['tt1924435', '0'],\n",
       "       ['tt0315733', '0'],\n",
       "       ['tt0376541', '0'],\n",
       "       ['tt0413267', '1'],\n",
       "       ['tt0454848', '0'],\n",
       "       ['tt0816199', '1'],\n",
       "       ['tt4052394', '0'],\n",
       "       ['tt0232500', '1'],\n",
       "       ['tt0343660', '0'],\n",
       "       ['tt1190080', '0'],\n",
       "       ['tt2574698', '0'],\n",
       "       ['tt3254460', '1'],\n",
       "       ['tt0268380', '0'],\n",
       "       ['tt1596343', '0'],\n",
       "       ['tt2251217', '0'],\n",
       "       ['tt0356910', '1'],\n",
       "       ['tt0213149', '2'],\n",
       "       ['tt2096673', '0'],\n",
       "       ['tt0169547', '0'],\n",
       "       ['tt4411490', '0'],\n",
       "       ['tt0147800', '0'],\n",
       "       ['tt1369829', '1'],\n",
       "       ['tt0407304', '0'],\n",
       "       ['tt0388795', '0'],\n",
       "       ['tt0944835', '0'],\n",
       "       ['tt1478338', '2'],\n",
       "       ['tt1041829', '1'],\n",
       "       ['tt1632708', '0'],\n",
       "       ['tt1564367', '0'],\n",
       "       ['tt1068680', '0'],\n",
       "       ['tt1637706', '0'],\n",
       "       ['tt3203616', '1']], \n",
       "      dtype='<U9')"
      ]
     },
     "execution_count": 205,
     "metadata": {},
     "output_type": "execute_result"
    }
   ],
   "source": [
    "itemx = np.array(itemx)\n",
    "itemx"
   ]
  },
  {
   "cell_type": "code",
   "execution_count": 206,
   "metadata": {
    "collapsed": true
   },
   "outputs": [],
   "source": [
    "# sorting in reverse(top 10 iStems)\n",
    "itemx = itemx[itemx[:,1].argsort()[::-1]]"
   ]
  },
  {
   "cell_type": "code",
   "execution_count": 207,
   "metadata": {
    "collapsed": false
   },
   "outputs": [
    {
     "data": {
      "text/plain": [
       "array([['tt1133985', '3'],\n",
       "       ['tt0382625', '2'],\n",
       "       ['tt1657301', '2'],\n",
       "       ['tt1478338', '2'],\n",
       "       ['tt0213149', '2'],\n",
       "       ['tt0266543', '2'],\n",
       "       ['tt3793764', '1'],\n",
       "       ['tt0232500', '1'],\n",
       "       ['tt0993846', '1'],\n",
       "       ['tt0816199', '1']], \n",
       "      dtype='<U9')"
      ]
     },
     "execution_count": 207,
     "metadata": {},
     "output_type": "execute_result"
    }
   ],
   "source": [
    "itemx[0:10, :]"
   ]
  },
  {
   "cell_type": "code",
   "execution_count": 208,
   "metadata": {
    "collapsed": true
   },
   "outputs": [],
   "source": [
    "sim_user_id = sim_user_id[:-1]\n"
   ]
  },
  {
   "cell_type": "code",
   "execution_count": 209,
   "metadata": {
    "collapsed": true
   },
   "outputs": [],
   "source": [
    "su_mean=[]\n",
    "count=0\n",
    "mean=0\n",
    "for i in range(len(su)):\n",
    "    for j in range(len(item_id)):\n",
    "        if su[i][j]:\n",
    "            count = count + 1\n",
    "            mean = mean + su[i][j]\n",
    "    if mean and count:\n",
    "        su_mean.append(mean/count)\n",
    "    else:\n",
    "        su_mean.append(0)\n",
    "    mean=0\n",
    "    count=0"
   ]
  },
  {
   "cell_type": "code",
   "execution_count": 210,
   "metadata": {
    "collapsed": true
   },
   "outputs": [],
   "source": [
    "import math\n",
    "corr_matrix=[]\n",
    "corr_m = []\n",
    "sumxy=0\n",
    "sumyy2=0\n",
    "sumxx2=0\n",
    "corr=0\n",
    "for i in range(len(su)):\n",
    "    for j in range(len(su)):\n",
    "        for k in range(len(item_id)):\n",
    "            if su[i][k] and su[j][k]:\n",
    "                sumxy= sumxy + (su[i][k]-su_mean[i])*(su[j][k]-su_mean[j])\n",
    "                sumxx2= sumxx2 + (su[i][k]-su_mean[i])*(su[i][k]-su_mean[i])\n",
    "                sumyy2= sumyy2 + (su[j][k]-su_mean[j])*(su[j][k]-su_mean[j])\n",
    "        if sumxx2 and sumyy2 :\n",
    "            corr=sumxy/math.sqrt(sumxx2*sumyy2)\n",
    "        else:\n",
    "            corr=0\n",
    "        corr_m.append(corr)\n",
    "        sumxy=0\n",
    "        sumyy2=0\n",
    "        sumxx2=0\n",
    "    corr_matrix.append(corr_m)\n",
    "    corr_m = []"
   ]
  },
  {
   "cell_type": "code",
   "execution_count": 211,
   "metadata": {
    "collapsed": false
   },
   "outputs": [
    {
     "data": {
      "text/plain": [
       "array([[ 0.        ,  0.        ,  0.        ,  0.        ,  0.        ,\n",
       "         0.        ,  0.        ,  0.        ,  0.        ,  0.        ,\n",
       "         0.        ,  0.        ,  0.        ,  0.        ,  0.        ,\n",
       "         0.        ,  0.        ,  0.        ,  0.        ,  0.        ,\n",
       "         0.        ,  0.        ,  0.        ,  0.        ,  0.        ,\n",
       "         0.        ],\n",
       "       [ 0.        ,  0.        ,  0.        ,  0.        ,  0.        ,\n",
       "         0.        ,  0.        ,  0.        ,  0.        ,  0.        ,\n",
       "         0.        ,  0.        ,  0.        ,  0.        ,  0.        ,\n",
       "         0.        ,  0.        ,  0.        ,  0.        ,  0.        ,\n",
       "         0.        ,  0.        ,  0.        ,  0.        ,  0.        ,\n",
       "         0.        ],\n",
       "       [ 0.        ,  0.        ,  0.        ,  0.        ,  0.        ,\n",
       "         0.        ,  0.        ,  0.        ,  0.        ,  0.        ,\n",
       "         0.        ,  0.        ,  0.        ,  0.        ,  0.        ,\n",
       "         0.        ,  0.        ,  0.        ,  0.        ,  0.        ,\n",
       "         0.        ,  0.        ,  0.        ,  0.        ,  0.        ,\n",
       "         0.        ],\n",
       "       [ 0.        ,  0.        ,  0.        ,  0.        ,  0.        ,\n",
       "         0.        ,  0.        ,  0.        ,  0.        ,  0.        ,\n",
       "         0.        ,  0.        ,  0.        ,  0.        ,  0.        ,\n",
       "         0.        ,  0.        ,  0.        ,  0.        ,  0.        ,\n",
       "         0.        ,  0.        ,  0.        ,  0.        ,  0.        ,\n",
       "         0.        ],\n",
       "       [ 0.        ,  0.        ,  0.        ,  0.        ,  0.        ,\n",
       "         0.        ,  0.        ,  0.        ,  0.        ,  0.        ,\n",
       "         0.        ,  0.        ,  0.        ,  0.        ,  0.        ,\n",
       "         0.        ,  0.        ,  0.        ,  0.        ,  0.        ,\n",
       "         0.        ,  0.        ,  0.        ,  0.        ,  0.        ,\n",
       "         0.        ],\n",
       "       [ 0.        ,  0.        ,  0.        ,  0.        ,  0.        ,\n",
       "         1.        ,  0.        ,  1.        ,  0.        ,  0.        ,\n",
       "         0.        ,  0.        ,  0.        ,  1.        ,  0.        ,\n",
       "         0.        ,  0.        ,  1.        ,  0.        ,  0.        ,\n",
       "         0.        ,  0.        ,  0.        ,  0.        ,  0.        ,\n",
       "         0.        ],\n",
       "       [ 0.        ,  0.        ,  0.        ,  0.        ,  0.        ,\n",
       "         0.        ,  0.        ,  0.        ,  0.        ,  0.        ,\n",
       "         0.        ,  0.        ,  0.        ,  0.        ,  0.        ,\n",
       "         0.        ,  0.        ,  0.        ,  0.        ,  0.        ,\n",
       "         0.        ,  0.        ,  0.        ,  0.        ,  0.        ,\n",
       "         0.        ],\n",
       "       [ 0.        ,  0.        ,  0.        ,  0.        ,  0.        ,\n",
       "         1.        ,  0.        ,  1.        ,  0.        ,  0.        ,\n",
       "         0.        ,  0.        ,  0.        ,  1.        ,  0.        ,\n",
       "         0.        ,  0.        ,  0.5547002 ,  0.        ,  0.        ,\n",
       "         0.        ,  0.        ,  0.        ,  0.        ,  0.        ,\n",
       "         0.        ],\n",
       "       [ 0.        ,  0.        ,  0.        ,  0.        ,  0.        ,\n",
       "         0.        ,  0.        ,  0.        ,  1.        ,  0.        ,\n",
       "         0.        ,  0.        ,  0.        , -1.        , -0.20601048,\n",
       "         0.        ,  0.        ,  0.        ,  0.        ,  0.        ,\n",
       "         0.        ,  0.        ,  0.        ,  0.        ,  0.        ,\n",
       "         0.        ],\n",
       "       [ 0.        ,  0.        ,  0.        ,  0.        ,  0.        ,\n",
       "         0.        ,  0.        ,  0.        ,  0.        ,  1.        ,\n",
       "         0.        ,  0.        ,  1.        ,  0.        ,  0.        ,\n",
       "         0.        ,  0.        ,  0.        ,  0.        ,  0.        ,\n",
       "        -1.        ,  0.        ,  0.        ,  0.        ,  0.        ,\n",
       "         0.        ],\n",
       "       [ 0.        ,  0.        ,  0.        ,  0.        ,  0.        ,\n",
       "         0.        ,  0.        ,  0.        ,  0.        ,  0.        ,\n",
       "         1.        ,  0.        ,  0.        ,  0.        ,  0.        ,\n",
       "         0.        ,  0.        ,  0.        ,  0.        ,  0.        ,\n",
       "         0.        ,  0.        ,  0.        ,  0.        ,  0.        ,\n",
       "         0.        ],\n",
       "       [ 0.        ,  0.        ,  0.        ,  0.        ,  0.        ,\n",
       "         0.        ,  0.        ,  0.        ,  0.        ,  0.        ,\n",
       "         0.        ,  0.        ,  0.        ,  0.        ,  0.        ,\n",
       "         0.        ,  0.        ,  0.        ,  0.        ,  0.        ,\n",
       "         0.        ,  0.        ,  0.        ,  0.        ,  0.        ,\n",
       "         0.        ],\n",
       "       [ 0.        ,  0.        ,  0.        ,  0.        ,  0.        ,\n",
       "         0.        ,  0.        ,  0.        ,  0.        ,  1.        ,\n",
       "         0.        ,  0.        ,  1.        ,  0.        ,  0.        ,\n",
       "         0.        ,  0.        ,  0.        ,  0.        ,  0.        ,\n",
       "         1.        ,  0.        ,  0.        ,  0.        ,  0.        ,\n",
       "         1.        ],\n",
       "       [ 0.        ,  0.        ,  0.        ,  0.        ,  0.        ,\n",
       "         1.        ,  0.        ,  1.        , -1.        ,  0.        ,\n",
       "         0.        ,  0.        ,  0.        ,  1.        ,  0.        ,\n",
       "         1.        ,  0.        ,  1.        ,  0.        ,  0.        ,\n",
       "         0.        ,  0.        ,  0.        ,  0.        ,  0.        ,\n",
       "         0.        ],\n",
       "       [ 0.        ,  0.        ,  0.        ,  0.        ,  0.        ,\n",
       "         0.        ,  0.        ,  0.        , -0.20601048,  0.        ,\n",
       "         0.        ,  0.        ,  0.        ,  0.        ,  1.        ,\n",
       "         1.        ,  0.        ,  0.        ,  0.        ,  0.        ,\n",
       "         0.        ,  0.        ,  0.        ,  0.        ,  0.        ,\n",
       "         0.        ],\n",
       "       [ 0.        ,  0.        ,  0.        ,  0.        ,  0.        ,\n",
       "         0.        ,  0.        ,  0.        ,  0.        ,  0.        ,\n",
       "         0.        ,  0.        ,  0.        ,  1.        ,  1.        ,\n",
       "         1.        , -1.        ,  0.        ,  0.        ,  0.        ,\n",
       "         0.        ,  0.        ,  0.        ,  0.        ,  0.        ,\n",
       "        -1.        ],\n",
       "       [ 0.        ,  0.        ,  0.        ,  0.        ,  0.        ,\n",
       "         0.        ,  0.        ,  0.        ,  0.        ,  0.        ,\n",
       "         0.        ,  0.        ,  0.        ,  0.        ,  0.        ,\n",
       "        -1.        ,  1.        , -1.        ,  0.        ,  0.        ,\n",
       "         0.        ,  0.        ,  0.        ,  0.        ,  0.        ,\n",
       "         0.        ],\n",
       "       [ 0.        ,  0.        ,  0.        ,  0.        ,  0.        ,\n",
       "         1.        ,  0.        ,  0.5547002 ,  0.        ,  0.        ,\n",
       "         0.        ,  0.        ,  0.        ,  1.        ,  0.        ,\n",
       "         0.        , -1.        ,  1.        ,  0.        ,  0.        ,\n",
       "         0.        ,  0.        ,  0.        ,  0.        ,  0.        ,\n",
       "         0.        ],\n",
       "       [ 0.        ,  0.        ,  0.        ,  0.        ,  0.        ,\n",
       "         0.        ,  0.        ,  0.        ,  0.        ,  0.        ,\n",
       "         0.        ,  0.        ,  0.        ,  0.        ,  0.        ,\n",
       "         0.        ,  0.        ,  0.        ,  1.        ,  0.        ,\n",
       "         0.        ,  0.        ,  0.        ,  0.        ,  0.        ,\n",
       "         0.        ],\n",
       "       [ 0.        ,  0.        ,  0.        ,  0.        ,  0.        ,\n",
       "         0.        ,  0.        ,  0.        ,  0.        ,  0.        ,\n",
       "         0.        ,  0.        ,  0.        ,  0.        ,  0.        ,\n",
       "         0.        ,  0.        ,  0.        ,  0.        ,  0.        ,\n",
       "         0.        ,  0.        ,  0.        ,  0.        ,  0.        ,\n",
       "         0.        ],\n",
       "       [ 0.        ,  0.        ,  0.        ,  0.        ,  0.        ,\n",
       "         0.        ,  0.        ,  0.        ,  0.        , -1.        ,\n",
       "         0.        ,  0.        ,  1.        ,  0.        ,  0.        ,\n",
       "         0.        ,  0.        ,  0.        ,  0.        ,  0.        ,\n",
       "         1.        ,  0.        ,  0.        ,  0.        ,  0.        ,\n",
       "         0.        ],\n",
       "       [ 0.        ,  0.        ,  0.        ,  0.        ,  0.        ,\n",
       "         0.        ,  0.        ,  0.        ,  0.        ,  0.        ,\n",
       "         0.        ,  0.        ,  0.        ,  0.        ,  0.        ,\n",
       "         0.        ,  0.        ,  0.        ,  0.        ,  0.        ,\n",
       "         0.        ,  0.        ,  0.        ,  0.        ,  0.        ,\n",
       "         0.        ],\n",
       "       [ 0.        ,  0.        ,  0.        ,  0.        ,  0.        ,\n",
       "         0.        ,  0.        ,  0.        ,  0.        ,  0.        ,\n",
       "         0.        ,  0.        ,  0.        ,  0.        ,  0.        ,\n",
       "         0.        ,  0.        ,  0.        ,  0.        ,  0.        ,\n",
       "         0.        ,  0.        ,  0.        ,  0.        ,  0.        ,\n",
       "         0.        ],\n",
       "       [ 0.        ,  0.        ,  0.        ,  0.        ,  0.        ,\n",
       "         0.        ,  0.        ,  0.        ,  0.        ,  0.        ,\n",
       "         0.        ,  0.        ,  0.        ,  0.        ,  0.        ,\n",
       "         0.        ,  0.        ,  0.        ,  0.        ,  0.        ,\n",
       "         0.        ,  0.        ,  0.        ,  0.        ,  0.        ,\n",
       "         0.        ],\n",
       "       [ 0.        ,  0.        ,  0.        ,  0.        ,  0.        ,\n",
       "         0.        ,  0.        ,  0.        ,  0.        ,  0.        ,\n",
       "         0.        ,  0.        ,  0.        ,  0.        ,  0.        ,\n",
       "         0.        ,  0.        ,  0.        ,  0.        ,  0.        ,\n",
       "         0.        ,  0.        ,  0.        ,  0.        ,  0.        ,\n",
       "         0.        ],\n",
       "       [ 0.        ,  0.        ,  0.        ,  0.        ,  0.        ,\n",
       "         0.        ,  0.        ,  0.        ,  0.        ,  0.        ,\n",
       "         0.        ,  0.        ,  1.        ,  0.        ,  0.        ,\n",
       "        -1.        ,  0.        ,  0.        ,  0.        ,  0.        ,\n",
       "         0.        ,  0.        ,  0.        ,  0.        ,  0.        ,\n",
       "         1.        ]])"
      ]
     },
     "execution_count": 211,
     "metadata": {},
     "output_type": "execute_result"
    }
   ],
   "source": [
    "corr_matrix = np.array(corr_matrix)\n",
    "corr_matrix"
   ]
  },
  {
   "cell_type": "code",
   "execution_count": 212,
   "metadata": {
    "collapsed": false
   },
   "outputs": [
    {
     "data": {
      "text/plain": [
       "<matplotlib.axes._subplots.AxesSubplot at 0x253077b84e0>"
      ]
     },
     "execution_count": 212,
     "metadata": {},
     "output_type": "execute_result"
    },
    {
     "data": {
      "image/png": "[encoded data removed]",
      "text/plain": [
       "<matplotlib.figure.Figure at 0x2530783b198>"
      ]
     },
     "metadata": {},
     "output_type": "display_data"
    }
   ],
   "source": [
    "import seaborn as sns\n",
    "sns.heatmap(corr_matrix, xticklabels=sim_user_id, yticklabels=sim_user_id)"
   ]
  },
  {
   "cell_type": "code",
   "execution_count": 213,
   "metadata": {
    "collapsed": false
   },
   "outputs": [
    {
     "data": {
      "text/plain": [
       "(26, 79)"
      ]
     },
     "execution_count": 213,
     "metadata": {},
     "output_type": "execute_result"
    }
   ],
   "source": [
    "su=np.array(su)\n",
    "su.shape"
   ]
  },
  {
   "cell_type": "code",
   "execution_count": 214,
   "metadata": {
    "collapsed": false
   },
   "outputs": [
    {
     "data": {
      "text/plain": [
       "array([ 0.,  0.,  0.,  0.,  0.,  0.,  0.,  0.,  0.,  1.,  0.,  0.,  1.,\n",
       "        0.,  0.,  0.,  0.,  0.,  0.,  0., -1.,  0.,  0.,  0.,  0.,  0.])"
      ]
     },
     "execution_count": 214,
     "metadata": {},
     "output_type": "execute_result"
    }
   ],
   "source": [
    "similarities = corr_matrix[9]\n",
    "similarities"
   ]
  },
  {
   "cell_type": "code",
   "execution_count": 215,
   "metadata": {
    "collapsed": false
   },
   "outputs": [
    {
     "data": {
      "text/plain": [
       "array([ 0.,  0.,  0.,  0.,  0.,  0.,  0.,  0.,  0.,  1.,  0.,  0.,  1.,\n",
       "        0.,  0.,  0.,  0.,  0.,  0.,  0., -1.,  0.,  0.,  0.,  0.])"
      ]
     },
     "execution_count": 215,
     "metadata": {},
     "output_type": "execute_result"
    }
   ],
   "source": [
    "similarities = similarities[:-1]\n",
    "similarities"
   ]
  },
  {
   "cell_type": "code",
   "execution_count": 216,
   "metadata": {
    "collapsed": false
   },
   "outputs": [
    {
     "data": {
      "text/plain": [
       "[1003,\n",
       " 1007,\n",
       " 1008,\n",
       " 1016,\n",
       " 1018,\n",
       " 1030,\n",
       " 1034,\n",
       " 1037,\n",
       " 1040,\n",
       " 1045,\n",
       " 1046,\n",
       " 1047,\n",
       " 1048,\n",
       " 1059,\n",
       " 1061,\n",
       " 1063,\n",
       " 1064,\n",
       " 1066,\n",
       " 1067,\n",
       " 1068,\n",
       " 1074,\n",
       " 1107,\n",
       " 1113,\n",
       " 1114,\n",
       " 1122]"
      ]
     },
     "execution_count": 216,
     "metadata": {},
     "output_type": "execute_result"
    }
   ],
   "source": [
    "sim_user_id"
   ]
  },
  {
   "cell_type": "code",
   "execution_count": 217,
   "metadata": {
    "collapsed": false
   },
   "outputs": [
    {
     "data": {
      "text/plain": [
       "[0,\n",
       " 0,\n",
       " 0,\n",
       " 0,\n",
       " 0,\n",
       " 0.20000000000000004,\n",
       " 0,\n",
       " 0.96666666666666667,\n",
       " 0.66666666666666663,\n",
       " 0.40000000000000008,\n",
       " 0.40000000000000008,\n",
       " 0,\n",
       " 0.66666666666666663,\n",
       " 0.56666666666666665,\n",
       " 0.88000000000000012,\n",
       " 0.70000000000000007,\n",
       " 0.53333333333333333,\n",
       " 0.23999999999999999,\n",
       " 0.20000000000000004,\n",
       " 0,\n",
       " 0.34999999999999998,\n",
       " 0,\n",
       " 0.59999999999999998,\n",
       " 0,\n",
       " 0,\n",
       " 0.40000000000000008]"
      ]
     },
     "execution_count": 217,
     "metadata": {},
     "output_type": "execute_result"
    }
   ],
   "source": [
    "su_mean=[]\n",
    "count=0\n",
    "mean=0\n",
    "for i in range(len(su)):\n",
    "    for j in range(len(item_id)):\n",
    "        if su[i][j]:\n",
    "            count = count + 1\n",
    "            mean = mean + su[i][j]\n",
    "    if mean and count:\n",
    "        su_mean.append(mean/count)\n",
    "    else:\n",
    "        su_mean.append(0)\n",
    "    mean=0\n",
    "    count=0\n",
    "su_mean"
   ]
  },
  {
   "cell_type": "code",
   "execution_count": 218,
   "metadata": {
    "collapsed": false
   },
   "outputs": [],
   "source": [
    "predicted_ratings=[]\n",
    "\n",
    "for i in range(len(item_id)):\n",
    "    temp = 0\n",
    "    summ = 0\n",
    "    for j in range(len(similar_users)):\n",
    "        if similar_users[j][i]:\n",
    "            summ = summ + similarities[j]\n",
    "            temp = temp + (similarities[j]*(similar_users[j][i]-su_mean[j]))\n",
    "    if summ:\n",
    "        pred = su_mean[-1] + (temp/summ)\n",
    "    else:\n",
    "        pred = su_mean[-1] + temp\n",
    "    if pred >1:\n",
    "        pred = 1\n",
    "    elif pred<=0:\n",
    "        pred = 0.2\n",
    "        \n",
    "    predicted_ratings.append(pred)\n",
    "    "
   ]
  },
  {
   "cell_type": "code",
   "execution_count": 219,
   "metadata": {
    "collapsed": false
   },
   "outputs": [
    {
     "name": "stdout",
     "output_type": "stream",
     "text": [
      "0.0 , 0.4\n",
      "0.0 , 0.4\n",
      "0.0 , 0.4\n",
      "0.0 , 0.4\n",
      "0.0 , 0.4\n",
      "0.0 , 0.4\n",
      "0.0 , 0.4\n",
      "0.0 , 0.4\n",
      "0.0 , 0.4\n",
      "0.0 , 0.4\n",
      "0.0 , 0.4\n",
      "0.0 , 0.4\n",
      "0.0 , 0.4\n",
      "0.0 , 0.4\n",
      "0.0 , 0.4\n",
      "0.0 , 0.4\n",
      "0.0 , 0.4\n",
      "0.0 , 0.4\n",
      "0.0 , 0.4\n",
      "0.0 , 0.4\n",
      "0.0 , 0.4\n",
      "0.0 , 0.4\n",
      "0.0 , 0.4\n",
      "0.0 , 0.4\n",
      "0.0 , 0.4\n",
      "0.0 , 0.4\n",
      "0.0 , 0.4\n",
      "0.0 , 0.4\n",
      "0.0 , 0.4\n",
      "0.0 , 0.4\n",
      "0.0 , 0.4\n",
      "0.0 , 0.4\n",
      "0.0 , 0.4\n",
      "0.0 , 0.4\n",
      "0.0 , 0.4\n",
      "0.0 , 0.4\n",
      "0.0 , 0.4\n",
      "0.0 , 0.4\n",
      "0.0 , 0.4\n",
      "0.0 , 0.4\n",
      "0.0 , 0.4\n",
      "0.0 , 0.4\n",
      "0.0 , 0.333333333333\n",
      "0.0 , 0.4\n",
      "0.0 , 0.4\n",
      "0.2 , 0.2\n",
      "0.0 , 0.4\n",
      "0.0 , 0.4\n",
      "0.0 , 0.4\n",
      "0.0 , 0.4\n",
      "0.0 , 0.4\n",
      "0.0 , 0.4\n",
      "0.0 , 0.4\n",
      "0.0 , 0.4\n",
      "0.0 , 0.4\n",
      "0.0 , 0.45\n",
      "0.0 , 0.4\n",
      "0.0 , 0.4\n",
      "0.0 , 0.4\n",
      "0.0 , 0.4\n",
      "0.0 , 0.4\n",
      "0.0 , 0.4\n",
      "0.4 , 0.366666666667\n",
      "0.0 , 0.283333333333\n",
      "0.0 , 0.4\n",
      "0.0 , 0.4\n",
      "0.0 , 0.4\n",
      "0.0 , 0.4\n",
      "0.0 , 0.4\n",
      "0.0 , 0.4\n",
      "0.0 , 0.4\n",
      "0.0 , 0.4\n",
      "0.0 , 0.4\n",
      "0.6 , 0.75\n",
      "0.0 , 0.4\n",
      "0.0 , 0.25\n",
      "0.0 , 0.4\n",
      "0.0 , 0.4\n",
      "0.0 , 0.4\n"
     ]
    }
   ],
   "source": [
    "for i in range(len(item_id)):\n",
    "    print(su[9][i],',',predicted_ratings[i])\n",
    "\n",
    "    \n",
    "   "
   ]
  },
  {
   "cell_type": "code",
   "execution_count": 220,
   "metadata": {
    "collapsed": false
   },
   "outputs": [
    {
     "data": {
      "text/plain": [
       "79"
      ]
     },
     "execution_count": 220,
     "metadata": {},
     "output_type": "execute_result"
    }
   ],
   "source": [
    "predicted_ratings=np.array(predicted_ratings)\n",
    "len(su[9])"
   ]
  },
  {
   "cell_type": "code",
   "execution_count": 221,
   "metadata": {
    "collapsed": false
   },
   "outputs": [],
   "source": [
    "err = 0\n",
    "count = 0\n",
    "for i in range(len(su[len(su)-1])):\n",
    "    if su[len(su)-1][i]:\n",
    "        err = err + abs(su[len(su)-1][i]-predicted_ratings[i])\n",
    "        count = count + 1\n",
    "if count:\n",
    "    mae = err/count\n",
    "else:\n",
    "    mae = 100000000000000"
   ]
  },
  {
   "cell_type": "code",
   "execution_count": 222,
   "metadata": {
    "collapsed": false
   },
   "outputs": [
    {
     "data": {
      "text/plain": [
       "0.022222222222222237"
      ]
     },
     "execution_count": 222,
     "metadata": {},
     "output_type": "execute_result"
    }
   ],
   "source": [
    "mae"
   ]
  },
  {
   "cell_type": "code",
   "execution_count": null,
   "metadata": {
    "collapsed": true
   },
   "outputs": [],
   "source": []
  }
 ],
 "metadata": {
  "anaconda-cloud": {},
  "kernelspec": {
   "display_name": "Python [default]",
   "language": "python",
   "name": "python3"
  },
  "language_info": {
   "codemirror_mode": {
    "name": "ipython",
    "version": 3
   },
   "file_extension": ".py",
   "mimetype": "text/x-python",
   "name": "python",
   "nbconvert_exporter": "python",
   "pygments_lexer": "ipython3",
   "version": "3.5.2"
  }
 },
 "nbformat": 4,
 "nbformat_minor": 1
}
